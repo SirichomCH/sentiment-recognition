{
 "cells": [
  {
   "cell_type": "code",
   "execution_count": 1,
   "metadata": {},
   "outputs": [
    {
     "name": "stderr",
     "output_type": "stream",
     "text": [
      "Using TensorFlow backend.\n"
     ]
    }
   ],
   "source": [
    "import numpy as np\n",
    "import cv2\n",
    "from keras.models import Sequential\n",
    "from keras.layers import Dense, Dropout, Flatten\n",
    "from keras.layers import Conv2D\n",
    "from keras.optimizers import Adam\n",
    "from keras.layers import MaxPooling2D\n",
    "from keras.preprocessing.image import ImageDataGenerator"
   ]
  },
  {
   "cell_type": "code",
   "execution_count": 2,
   "metadata": {},
   "outputs": [
    {
     "name": "stdout",
     "output_type": "stream",
     "text": [
      "Found 28709 images belonging to 7 classes.\n",
      "Found 7178 images belonging to 7 classes.\n"
     ]
    }
   ],
   "source": [
    "train_dir = 'train'\n",
    "val_dir = 'test'\n",
    "train_datagen = ImageDataGenerator(rescale=1./255)\n",
    "val_datagen = ImageDataGenerator(rescale=1./255)\n",
    "train_generator = train_datagen.flow_from_directory(\n",
    "        train_dir,\n",
    "        target_size=(48,48),\n",
    "        batch_size=64,\n",
    "        color_mode=\"grayscale\",\n",
    "        class_mode='categorical')\n",
    "validation_generator = val_datagen.flow_from_directory(\n",
    "        val_dir,\n",
    "        target_size=(48,48),\n",
    "        batch_size=64,\n",
    "        color_mode=\"grayscale\",\n",
    "        class_mode='categorical')"
   ]
  },
  {
   "cell_type": "code",
   "execution_count": 3,
   "metadata": {},
   "outputs": [],
   "source": [
    "emotion_model = Sequential()\n",
    "emotion_model.add(Conv2D(32, kernel_size=(3, 3), activation='relu', input_shape=(48,48,1)))\n",
    "emotion_model.add(Conv2D(64, kernel_size=(3, 3), activation='relu'))\n",
    "emotion_model.add(MaxPooling2D(pool_size=(2, 2)))\n",
    "emotion_model.add(Dropout(0.25))\n",
    "emotion_model.add(Conv2D(128, kernel_size=(3, 3), activation='relu'))\n",
    "emotion_model.add(MaxPooling2D(pool_size=(2, 2)))\n",
    "emotion_model.add(Conv2D(128, kernel_size=(3, 3), activation='relu'))\n",
    "emotion_model.add(MaxPooling2D(pool_size=(2, 2)))\n",
    "emotion_model.add(Dropout(0.25))\n",
    "emotion_model.add(Flatten())\n",
    "emotion_model.add(Dense(1024, activation='relu'))\n",
    "emotion_model.add(Dropout(0.5))\n",
    "emotion_model.add(Dense(7, activation='softmax'))"
   ]
  },
  {
   "cell_type": "code",
   "execution_count": 4,
   "metadata": {},
   "outputs": [
    {
     "name": "stdout",
     "output_type": "stream",
     "text": [
      "Epoch 1/20\n",
      "448/448 [==============================] - 866s 2s/step - loss: 1.8032 - accuracy: 0.2601 - val_loss: 1.6859 - val_accuracy: 0.3376\n",
      "Epoch 2/20\n",
      "448/448 [==============================] - 832s 2s/step - loss: 1.6335 - accuracy: 0.3609 - val_loss: 1.7310 - val_accuracy: 0.3992\n",
      "Epoch 3/20\n",
      "448/448 [==============================] - 602s 1s/step - loss: 1.5451 - accuracy: 0.4063 - val_loss: 1.4124 - val_accuracy: 0.4369\n",
      "Epoch 4/20\n",
      "448/448 [==============================] - 599s 1s/step - loss: 1.4798 - accuracy: 0.4327 - val_loss: 1.3642 - val_accuracy: 0.4581\n",
      "Epoch 5/20\n",
      "448/448 [==============================] - 599s 1s/step - loss: 1.4278 - accuracy: 0.4565 - val_loss: 1.3885 - val_accuracy: 0.4739\n",
      "Epoch 6/20\n",
      "448/448 [==============================] - 624s 1s/step - loss: 1.3759 - accuracy: 0.4779 - val_loss: 1.3525 - val_accuracy: 0.4935\n",
      "Epoch 7/20\n",
      "448/448 [==============================] - 749s 2s/step - loss: 1.3308 - accuracy: 0.4937 - val_loss: 1.2167 - val_accuracy: 0.4996\n",
      "Epoch 8/20\n",
      "448/448 [==============================] - 729s 2s/step - loss: 1.2813 - accuracy: 0.5172 - val_loss: 1.3481 - val_accuracy: 0.5212\n",
      "Epoch 9/20\n",
      "448/448 [==============================] - 745s 2s/step - loss: 1.2499 - accuracy: 0.5298 - val_loss: 1.2894 - val_accuracy: 0.5288\n",
      "Epoch 10/20\n",
      "448/448 [==============================] - 731s 2s/step - loss: 1.2124 - accuracy: 0.5445 - val_loss: 1.2359 - val_accuracy: 0.5301\n",
      "Epoch 11/20\n",
      "448/448 [==============================] - 726s 2s/step - loss: 1.1852 - accuracy: 0.5523 - val_loss: 1.0963 - val_accuracy: 0.5433\n",
      "Epoch 12/20\n",
      "448/448 [==============================] - 722s 2s/step - loss: 1.1570 - accuracy: 0.5660 - val_loss: 1.1916 - val_accuracy: 0.5543\n",
      "Epoch 13/20\n",
      "448/448 [==============================] - 727s 2s/step - loss: 1.1267 - accuracy: 0.5775 - val_loss: 1.0738 - val_accuracy: 0.5617\n",
      "Epoch 14/20\n",
      "448/448 [==============================] - 810s 2s/step - loss: 1.1036 - accuracy: 0.5880 - val_loss: 1.1386 - val_accuracy: 0.5620\n",
      "Epoch 15/20\n",
      "448/448 [==============================] - 800s 2s/step - loss: 1.0753 - accuracy: 0.5995 - val_loss: 0.9875 - val_accuracy: 0.5655\n",
      "Epoch 16/20\n",
      "448/448 [==============================] - 732s 2s/step - loss: 1.0552 - accuracy: 0.6066 - val_loss: 1.1126 - val_accuracy: 0.5700\n",
      "Epoch 17/20\n",
      "448/448 [==============================] - 723s 2s/step - loss: 1.0286 - accuracy: 0.6176 - val_loss: 0.9170 - val_accuracy: 0.5815\n",
      "Epoch 18/20\n",
      "448/448 [==============================] - 725s 2s/step - loss: 1.0051 - accuracy: 0.6297 - val_loss: 1.2109 - val_accuracy: 0.5808\n",
      "Epoch 19/20\n",
      "448/448 [==============================] - 731s 2s/step - loss: 0.9801 - accuracy: 0.6380 - val_loss: 1.2076 - val_accuracy: 0.5850\n",
      "Epoch 20/20\n",
      "448/448 [==============================] - 720s 2s/step - loss: 0.9571 - accuracy: 0.6474 - val_loss: 1.1508 - val_accuracy: 0.5947\n"
     ]
    }
   ],
   "source": [
    "emotion_model.compile(loss='categorical_crossentropy',optimizer=Adam(lr=0.0001, decay=1e-6),metrics=['accuracy'])\n",
    "emotion_model_info = emotion_model.fit_generator(\n",
    "        train_generator,\n",
    "        steps_per_epoch=28709 // 64,\n",
    "        epochs=20,\n",
    "        validation_data=validation_generator,\n",
    "        validation_steps=7178 // 64)"
   ]
  },
  {
   "cell_type": "code",
   "execution_count": 5,
   "metadata": {},
   "outputs": [],
   "source": [
    "emotion_model.save_weights('emotion_model.h5')"
   ]
  },
  {
   "cell_type": "code",
   "execution_count": 6,
   "metadata": {},
   "outputs": [],
   "source": [
    "emotion_model.load_weights('emotion_model.h5')"
   ]
  },
  {
   "cell_type": "code",
   "execution_count": 7,
   "metadata": {},
   "outputs": [],
   "source": [
    "cv2.ocl.setUseOpenCL(False)"
   ]
  },
  {
   "cell_type": "code",
   "execution_count": 8,
   "metadata": {},
   "outputs": [],
   "source": [
    "emotion_dict = {0: \"Angry\", 1: \"Disgusted\", 2: \"Fearful\", 3: \"Happy\", 4: \"Neutral\", 5: \"Sad\", 6: \"Surprised\"}"
   ]
  },
  {
   "cell_type": "code",
   "execution_count": null,
   "metadata": {},
   "outputs": [],
   "source": [
    "# start the webcam feed\n",
    "cap = cv2.VideoCapture(0)\n",
    "while True:\n",
    "    # Find haar cascade to draw bounding box around face\n",
    "    ret, frame = cap.read()\n",
    "    if not ret:\n",
    "        break\n",
    "    bounding_box = cv2.CascadeClassifier('C:/Users/Administrator/anaconda3/Lib/site-packages/cv2/data/haarcascade_frontalface_default.xml')\n",
    "    gray_frame = cv2.cvtColor(frame, cv2.COLOR_BGR2GRAY)\n",
    "    num_faces = bounding_box.detectMultiScale(gray_frame,scaleFactor=1.3, minNeighbors=5)\n",
    "\n",
    "    for (x, y, w, h) in num_faces:\n",
    "        cv2.rectangle(frame, (x, y-50), (x+w, y+h+10), (255, 0, 0), 2)\n",
    "        roi_gray_frame = gray_frame[y:y + h, x:x + w]\n",
    "        cropped_img = np.expand_dims(np.expand_dims(cv2.resize(roi_gray_frame, (48, 48)), -1), 0)\n",
    "        emotion_prediction = emotion_model.predict(cropped_img)\n",
    "        maxindex = int(np.argmax(emotion_prediction))\n",
    "        cv2.putText(frame, emotion_dict[maxindex], (x+20, y-60), cv2.FONT_HERSHEY_SIMPLEX, 1, (255, 255, 255), 2, cv2.LINE_AA)\n",
    "\n",
    "    cv2.imshow('Video', cv2.resize(frame,(1200,860),interpolation = cv2.INTER_CUBIC))\n",
    "    if cv2.waitKey(1) & 0xFF == ord('q'):\n",
    "        break\n",
    "\n",
    "cap.release()\n",
    "cv2.destroyAllWindows()"
   ]
  },
  {
   "cell_type": "code",
   "execution_count": null,
   "metadata": {},
   "outputs": [],
   "source": []
  }
 ],
 "metadata": {
  "kernelspec": {
   "display_name": "Python 3",
   "language": "python",
   "name": "python3"
  },
  "language_info": {
   "codemirror_mode": {
    "name": "ipython",
    "version": 3
   },
   "file_extension": ".py",
   "mimetype": "text/x-python",
   "name": "python",
   "nbconvert_exporter": "python",
   "pygments_lexer": "ipython3",
   "version": "3.7.7"
  }
 },
 "nbformat": 4,
 "nbformat_minor": 4
}
